{
 "cells": [
  {
   "cell_type": "code",
   "execution_count": 1,
   "id": "d2aeacd8-7f4f-4151-9d40-fa52ed12e9f2",
   "metadata": {},
   "outputs": [],
   "source": [
    "import pandas as pd\n",
    "\n",
    "from matplotlib import pyplot as plt\n",
    "from matplotlib_venn import venn2, venn3\n",
    "\n",
    "import os\n",
    "os.chdir('/Users/soheepark/03-GEO근감소/Data/')"
   ]
  },
  {
   "cell_type": "code",
   "execution_count": 2,
   "id": "8b680b17-9152-4b17-b444-cbfd9188afd5",
   "metadata": {},
   "outputs": [],
   "source": [
    "ohyh = pd.read_csv('./gse167186/ohyh/results_GSE167186_ohyh_filtered.csv', index_col=0)\n",
    "osoh = pd.read_csv('./gse167186/osoh/results_GSE167186_osoh_filtered.csv', index_col=0)\n",
    "osyh = pd.read_csv('./gse167186/osyh/results_GSE167186_osyh_filtered.csv', index_col=0)\n",
    "\n",
    "osoh_ = pd.read_csv('./gse111016/osoh/results_GSE111016_osoh_filtered.csv', index_col=0)"
   ]
  },
  {
   "cell_type": "markdown",
   "id": "9216283e-3a09-44ab-8c54-f3c49a390cf4",
   "metadata": {},
   "source": [
    "# Goal 1\n",
    "* gse111016 히트맵 결과 요상한거 치료  \n",
    "* cutoff 기준: pvalue < 0.05, |Log2FC| > 1  \n",
    "* 이상한놈: 아래 샘플들 패턴이 아주 유사함\n",
    "    * sample2, sample17, sample24, sample27, sample3(OS), sample15(OS), sample16(OS), sample28(OS), sample31(OS), sample34(OS), sample40(OS)"
   ]
  },
  {
   "cell_type": "markdown",
   "id": "5383b25a-622a-496c-b9c5-ae869ab2c37d",
   "metadata": {},
   "source": [
    "요상한 환자들 정의"
   ]
  },
  {
   "cell_type": "code",
   "execution_count": 37,
   "id": "b820a987-d390-46d2-ab21-6c2928046f94",
   "metadata": {},
   "outputs": [],
   "source": [
    "strange_os = [2, 17, 24, 27]\n",
    "strange_oh = [3, 15, 16, 28, 31, 34, 40]"
   ]
  },
  {
   "cell_type": "markdown",
   "id": "0edd6cfe-2477-4abd-8e44-2fb2b80d23ca",
   "metadata": {},
   "source": [
    "Firstly, 메타데이터 확인함"
   ]
  },
  {
   "cell_type": "code",
   "execution_count": 31,
   "id": "d4f41ae9-3388-4759-b0c8-e8e58b8802c1",
   "metadata": {},
   "outputs": [],
   "source": [
    "meta = pd.read_csv('./gse111016/GSE111016_metadata.csv', sep='\\t', index_col=0)"
   ]
  },
  {
   "cell_type": "code",
   "execution_count": 32,
   "id": "4e77526e-6b03-40d9-82e6-7d456f62d5a9",
   "metadata": {},
   "outputs": [
    {
     "data": {
      "text/html": [
       "<div>\n",
       "<style scoped>\n",
       "    .dataframe tbody tr th:only-of-type {\n",
       "        vertical-align: middle;\n",
       "    }\n",
       "\n",
       "    .dataframe tbody tr th {\n",
       "        vertical-align: top;\n",
       "    }\n",
       "\n",
       "    .dataframe thead th {\n",
       "        text-align: right;\n",
       "    }\n",
       "</style>\n",
       "<table border=\"1\" class=\"dataframe\">\n",
       "  <thead>\n",
       "    <tr style=\"text-align: right;\">\n",
       "      <th></th>\n",
       "      <th>Condition</th>\n",
       "      <th>Sample</th>\n",
       "      <th>Temp</th>\n",
       "    </tr>\n",
       "  </thead>\n",
       "  <tbody>\n",
       "    <tr>\n",
       "      <th>Sample 2</th>\n",
       "      <td>OH</td>\n",
       "      <td>Sample 2</td>\n",
       "      <td>2</td>\n",
       "    </tr>\n",
       "    <tr>\n",
       "      <th>Sample 17</th>\n",
       "      <td>OH</td>\n",
       "      <td>Sample 17</td>\n",
       "      <td>17</td>\n",
       "    </tr>\n",
       "    <tr>\n",
       "      <th>Sample 24</th>\n",
       "      <td>OH</td>\n",
       "      <td>Sample 24</td>\n",
       "      <td>24</td>\n",
       "    </tr>\n",
       "    <tr>\n",
       "      <th>Sample 27</th>\n",
       "      <td>OH</td>\n",
       "      <td>Sample 27</td>\n",
       "      <td>27</td>\n",
       "    </tr>\n",
       "  </tbody>\n",
       "</table>\n",
       "</div>"
      ],
      "text/plain": [
       "          Condition     Sample  Temp\n",
       "Sample 2         OH   Sample 2     2\n",
       "Sample 17        OH  Sample 17    17\n",
       "Sample 24        OH  Sample 24    24\n",
       "Sample 27        OH  Sample 27    27"
      ]
     },
     "execution_count": 32,
     "metadata": {},
     "output_type": "execute_result"
    }
   ],
   "source": [
    "meta[meta['Temp'].isin(strange_os)]"
   ]
  },
  {
   "cell_type": "code",
   "execution_count": 33,
   "id": "d1c5634f-8754-4e6d-b46e-f7a10d275e75",
   "metadata": {},
   "outputs": [
    {
     "data": {
      "text/html": [
       "<div>\n",
       "<style scoped>\n",
       "    .dataframe tbody tr th:only-of-type {\n",
       "        vertical-align: middle;\n",
       "    }\n",
       "\n",
       "    .dataframe tbody tr th {\n",
       "        vertical-align: top;\n",
       "    }\n",
       "\n",
       "    .dataframe thead th {\n",
       "        text-align: right;\n",
       "    }\n",
       "</style>\n",
       "<table border=\"1\" class=\"dataframe\">\n",
       "  <thead>\n",
       "    <tr style=\"text-align: right;\">\n",
       "      <th></th>\n",
       "      <th>Condition</th>\n",
       "      <th>Sample</th>\n",
       "      <th>Temp</th>\n",
       "    </tr>\n",
       "  </thead>\n",
       "  <tbody>\n",
       "    <tr>\n",
       "      <th>Sample 3</th>\n",
       "      <td>OS</td>\n",
       "      <td>Sample 3</td>\n",
       "      <td>3</td>\n",
       "    </tr>\n",
       "    <tr>\n",
       "      <th>Sample 15</th>\n",
       "      <td>OS</td>\n",
       "      <td>Sample 15</td>\n",
       "      <td>15</td>\n",
       "    </tr>\n",
       "    <tr>\n",
       "      <th>Sample 16</th>\n",
       "      <td>OS</td>\n",
       "      <td>Sample 16</td>\n",
       "      <td>16</td>\n",
       "    </tr>\n",
       "    <tr>\n",
       "      <th>Sample 28</th>\n",
       "      <td>OS</td>\n",
       "      <td>Sample 28</td>\n",
       "      <td>28</td>\n",
       "    </tr>\n",
       "    <tr>\n",
       "      <th>Sample 31</th>\n",
       "      <td>OS</td>\n",
       "      <td>Sample 31</td>\n",
       "      <td>31</td>\n",
       "    </tr>\n",
       "    <tr>\n",
       "      <th>Sample 34</th>\n",
       "      <td>OS</td>\n",
       "      <td>Sample 34</td>\n",
       "      <td>34</td>\n",
       "    </tr>\n",
       "    <tr>\n",
       "      <th>Sample 40</th>\n",
       "      <td>OS</td>\n",
       "      <td>Sample 40</td>\n",
       "      <td>40</td>\n",
       "    </tr>\n",
       "  </tbody>\n",
       "</table>\n",
       "</div>"
      ],
      "text/plain": [
       "          Condition     Sample  Temp\n",
       "Sample 3         OS   Sample 3     3\n",
       "Sample 15        OS  Sample 15    15\n",
       "Sample 16        OS  Sample 16    16\n",
       "Sample 28        OS  Sample 28    28\n",
       "Sample 31        OS  Sample 31    31\n",
       "Sample 34        OS  Sample 34    34\n",
       "Sample 40        OS  Sample 40    40"
      ]
     },
     "execution_count": 33,
     "metadata": {},
     "output_type": "execute_result"
    }
   ],
   "source": [
    "meta[meta['Temp'].isin(strange_oh)]"
   ]
  },
  {
   "cell_type": "markdown",
   "id": "6c8f003c-1b62-4ed8-b093-d6bd01d16ad3",
   "metadata": {},
   "source": [
    "Second, eda용으로 사용했던 metadata 파일 확인함"
   ]
  },
  {
   "cell_type": "code",
   "execution_count": 27,
   "id": "3eb6fba8-1c29-4c1f-9d0b-fd803d8db65f",
   "metadata": {},
   "outputs": [],
   "source": [
    "eda = pd.read_csv('./gse111016/GSE111016_eda.csv', index_col=0)"
   ]
  },
  {
   "cell_type": "code",
   "execution_count": 46,
   "id": "e8881d6d-bf4b-4b56-b6c5-3238066c6b62",
   "metadata": {},
   "outputs": [],
   "source": [
    "eda['Temp'] = eda.index\n",
    "eda['Temp'] = eda['Temp'].apply(lambda x:x.split(' ')[1])\n",
    "eda['Temp'] = eda['Temp'].astype(int)"
   ]
  },
  {
   "cell_type": "code",
   "execution_count": 47,
   "id": "77188c0b-0d17-4309-a761-8764604f4eb5",
   "metadata": {},
   "outputs": [
    {
     "data": {
      "text/html": [
       "<div>\n",
       "<style scoped>\n",
       "    .dataframe tbody tr th:only-of-type {\n",
       "        vertical-align: middle;\n",
       "    }\n",
       "\n",
       "    .dataframe tbody tr th {\n",
       "        vertical-align: top;\n",
       "    }\n",
       "\n",
       "    .dataframe thead th {\n",
       "        text-align: right;\n",
       "    }\n",
       "</style>\n",
       "<table border=\"1\" class=\"dataframe\">\n",
       "  <thead>\n",
       "    <tr style=\"text-align: right;\">\n",
       "      <th></th>\n",
       "      <th>population</th>\n",
       "      <th>sarcopenia status</th>\n",
       "      <th>Sex</th>\n",
       "      <th>age (yr)</th>\n",
       "      <th>tissue</th>\n",
       "      <th>Temp</th>\n",
       "    </tr>\n",
       "  </thead>\n",
       "  <tbody>\n",
       "    <tr>\n",
       "      <th>Sample 2 [sss]</th>\n",
       "      <td>Chinese descent</td>\n",
       "      <td>no</td>\n",
       "      <td>male</td>\n",
       "      <td>69</td>\n",
       "      <td>vastus lateralis muscle</td>\n",
       "      <td>2</td>\n",
       "    </tr>\n",
       "    <tr>\n",
       "      <th>Sample 17 [sss]</th>\n",
       "      <td>Chinese descent</td>\n",
       "      <td>no</td>\n",
       "      <td>male</td>\n",
       "      <td>65</td>\n",
       "      <td>vastus lateralis muscle</td>\n",
       "      <td>17</td>\n",
       "    </tr>\n",
       "    <tr>\n",
       "      <th>Sample 24 [sss]</th>\n",
       "      <td>Chinese descent</td>\n",
       "      <td>no</td>\n",
       "      <td>male</td>\n",
       "      <td>71</td>\n",
       "      <td>vastus lateralis muscle</td>\n",
       "      <td>24</td>\n",
       "    </tr>\n",
       "    <tr>\n",
       "      <th>Sample 27 [sss]</th>\n",
       "      <td>Chinese descent</td>\n",
       "      <td>no</td>\n",
       "      <td>male</td>\n",
       "      <td>69</td>\n",
       "      <td>vastus lateralis muscle</td>\n",
       "      <td>27</td>\n",
       "    </tr>\n",
       "  </tbody>\n",
       "</table>\n",
       "</div>"
      ],
      "text/plain": [
       "                      population sarcopenia status   Sex  age (yr)  \\\n",
       "Sample 2 [sss]   Chinese descent                no  male        69   \n",
       "Sample 17 [sss]  Chinese descent                no  male        65   \n",
       "Sample 24 [sss]  Chinese descent                no  male        71   \n",
       "Sample 27 [sss]  Chinese descent                no  male        69   \n",
       "\n",
       "                                  tissue  Temp  \n",
       "Sample 2 [sss]   vastus lateralis muscle     2  \n",
       "Sample 17 [sss]  vastus lateralis muscle    17  \n",
       "Sample 24 [sss]  vastus lateralis muscle    24  \n",
       "Sample 27 [sss]  vastus lateralis muscle    27  "
      ]
     },
     "execution_count": 47,
     "metadata": {},
     "output_type": "execute_result"
    }
   ],
   "source": [
    "eda[eda['Temp'].isin(strange_os)]"
   ]
  },
  {
   "cell_type": "code",
   "execution_count": 48,
   "id": "5075b197-653b-426e-8abf-b42cdaa4ca26",
   "metadata": {},
   "outputs": [
    {
     "data": {
      "text/html": [
       "<div>\n",
       "<style scoped>\n",
       "    .dataframe tbody tr th:only-of-type {\n",
       "        vertical-align: middle;\n",
       "    }\n",
       "\n",
       "    .dataframe tbody tr th {\n",
       "        vertical-align: top;\n",
       "    }\n",
       "\n",
       "    .dataframe thead th {\n",
       "        text-align: right;\n",
       "    }\n",
       "</style>\n",
       "<table border=\"1\" class=\"dataframe\">\n",
       "  <thead>\n",
       "    <tr style=\"text-align: right;\">\n",
       "      <th></th>\n",
       "      <th>population</th>\n",
       "      <th>sarcopenia status</th>\n",
       "      <th>Sex</th>\n",
       "      <th>age (yr)</th>\n",
       "      <th>tissue</th>\n",
       "      <th>Temp</th>\n",
       "    </tr>\n",
       "  </thead>\n",
       "  <tbody>\n",
       "    <tr>\n",
       "      <th>Sample 3 [sss]</th>\n",
       "      <td>Chinese descent</td>\n",
       "      <td>yes</td>\n",
       "      <td>male</td>\n",
       "      <td>69</td>\n",
       "      <td>vastus lateralis muscle</td>\n",
       "      <td>3</td>\n",
       "    </tr>\n",
       "    <tr>\n",
       "      <th>Sample 15 [sss]</th>\n",
       "      <td>Chinese descent</td>\n",
       "      <td>yes</td>\n",
       "      <td>male</td>\n",
       "      <td>71</td>\n",
       "      <td>vastus lateralis muscle</td>\n",
       "      <td>15</td>\n",
       "    </tr>\n",
       "    <tr>\n",
       "      <th>Sample 16 [sss]</th>\n",
       "      <td>Chinese descent</td>\n",
       "      <td>yes</td>\n",
       "      <td>male</td>\n",
       "      <td>75</td>\n",
       "      <td>vastus lateralis muscle</td>\n",
       "      <td>16</td>\n",
       "    </tr>\n",
       "    <tr>\n",
       "      <th>Sample 28 [sss]</th>\n",
       "      <td>Chinese descent</td>\n",
       "      <td>yes</td>\n",
       "      <td>male</td>\n",
       "      <td>76</td>\n",
       "      <td>vastus lateralis muscle</td>\n",
       "      <td>28</td>\n",
       "    </tr>\n",
       "    <tr>\n",
       "      <th>Sample 31 [sss]</th>\n",
       "      <td>Chinese descent</td>\n",
       "      <td>yes</td>\n",
       "      <td>male</td>\n",
       "      <td>78</td>\n",
       "      <td>vastus lateralis muscle</td>\n",
       "      <td>31</td>\n",
       "    </tr>\n",
       "    <tr>\n",
       "      <th>Sample 34 [sss]</th>\n",
       "      <td>Chinese descent</td>\n",
       "      <td>yes</td>\n",
       "      <td>male</td>\n",
       "      <td>69</td>\n",
       "      <td>vastus lateralis muscle</td>\n",
       "      <td>34</td>\n",
       "    </tr>\n",
       "    <tr>\n",
       "      <th>Sample 40 [sss]</th>\n",
       "      <td>Chinese descent</td>\n",
       "      <td>yes</td>\n",
       "      <td>male</td>\n",
       "      <td>66</td>\n",
       "      <td>vastus lateralis muscle</td>\n",
       "      <td>40</td>\n",
       "    </tr>\n",
       "  </tbody>\n",
       "</table>\n",
       "</div>"
      ],
      "text/plain": [
       "                      population sarcopenia status   Sex  age (yr)  \\\n",
       "Sample 3 [sss]   Chinese descent               yes  male        69   \n",
       "Sample 15 [sss]  Chinese descent               yes  male        71   \n",
       "Sample 16 [sss]  Chinese descent               yes  male        75   \n",
       "Sample 28 [sss]  Chinese descent               yes  male        76   \n",
       "Sample 31 [sss]  Chinese descent               yes  male        78   \n",
       "Sample 34 [sss]  Chinese descent               yes  male        69   \n",
       "Sample 40 [sss]  Chinese descent               yes  male        66   \n",
       "\n",
       "                                  tissue  Temp  \n",
       "Sample 3 [sss]   vastus lateralis muscle     3  \n",
       "Sample 15 [sss]  vastus lateralis muscle    15  \n",
       "Sample 16 [sss]  vastus lateralis muscle    16  \n",
       "Sample 28 [sss]  vastus lateralis muscle    28  \n",
       "Sample 31 [sss]  vastus lateralis muscle    31  \n",
       "Sample 34 [sss]  vastus lateralis muscle    34  \n",
       "Sample 40 [sss]  vastus lateralis muscle    40  "
      ]
     },
     "execution_count": 48,
     "metadata": {},
     "output_type": "execute_result"
    }
   ],
   "source": [
    "eda[eda['Temp'].isin(strange_oh)]"
   ]
  },
  {
   "cell_type": "markdown",
   "id": "6b570d12-c49c-4447-b3db-82c37a8df544",
   "metadata": {},
   "source": [
    "**- 결론: 이상무 -** "
   ]
  },
  {
   "cell_type": "markdown",
   "id": "1393b408-f547-47b0-bfeb-d59d11e6e065",
   "metadata": {},
   "source": [
    "# Goal 2\n",
    "* gse167186 내에서 공통 유전자 개수 확인\n",
    "* cutoff 기준: pvalue < 0.05, |Log2FC| > 1  \n",
    "\n",
    "case1: ohyh, osoh -> common gene in **oh**  \n",
    "case2: ohyh, osyh -> common gene in **yh**  \n",
    "case3: osoh, osyh -> common gene in **os**"
   ]
  },
  {
   "cell_type": "code",
   "execution_count": 7,
   "id": "cbd291e2-c251-459b-a8e6-e825e65a3a80",
   "metadata": {},
   "outputs": [
    {
     "data": {
      "text/html": [
       "<div>\n",
       "<style scoped>\n",
       "    .dataframe tbody tr th:only-of-type {\n",
       "        vertical-align: middle;\n",
       "    }\n",
       "\n",
       "    .dataframe tbody tr th {\n",
       "        vertical-align: top;\n",
       "    }\n",
       "\n",
       "    .dataframe thead th {\n",
       "        text-align: right;\n",
       "    }\n",
       "</style>\n",
       "<table border=\"1\" class=\"dataframe\">\n",
       "  <thead>\n",
       "    <tr style=\"text-align: right;\">\n",
       "      <th></th>\n",
       "      <th>baseMean</th>\n",
       "      <th>log2FoldChange</th>\n",
       "      <th>lfcSE</th>\n",
       "      <th>stat</th>\n",
       "      <th>pvalue</th>\n",
       "      <th>padj</th>\n",
       "    </tr>\n",
       "  </thead>\n",
       "  <tbody>\n",
       "    <tr>\n",
       "      <th>FUCA2</th>\n",
       "      <td>3.564318</td>\n",
       "      <td>-0.334895</td>\n",
       "      <td>0.287092</td>\n",
       "      <td>-1.166509</td>\n",
       "      <td>2.434088e-01</td>\n",
       "      <td>5.354994e-01</td>\n",
       "    </tr>\n",
       "    <tr>\n",
       "      <th>BAD</th>\n",
       "      <td>5.352139</td>\n",
       "      <td>-0.594896</td>\n",
       "      <td>0.214380</td>\n",
       "      <td>-2.774957</td>\n",
       "      <td>5.520893e-03</td>\n",
       "      <td>4.911824e-02</td>\n",
       "    </tr>\n",
       "    <tr>\n",
       "      <th>DBNDD1</th>\n",
       "      <td>15.996572</td>\n",
       "      <td>-0.369774</td>\n",
       "      <td>0.224278</td>\n",
       "      <td>-1.648733</td>\n",
       "      <td>9.920244e-02</td>\n",
       "      <td>3.278473e-01</td>\n",
       "    </tr>\n",
       "    <tr>\n",
       "      <th>CD38</th>\n",
       "      <td>36.010215</td>\n",
       "      <td>-0.662390</td>\n",
       "      <td>0.129745</td>\n",
       "      <td>-5.105340</td>\n",
       "      <td>3.302002e-07</td>\n",
       "      <td>2.359917e-05</td>\n",
       "    </tr>\n",
       "    <tr>\n",
       "      <th>SKAP2</th>\n",
       "      <td>40.506096</td>\n",
       "      <td>1.501544</td>\n",
       "      <td>0.137132</td>\n",
       "      <td>10.949658</td>\n",
       "      <td>6.669915e-28</td>\n",
       "      <td>8.532822e-24</td>\n",
       "    </tr>\n",
       "    <tr>\n",
       "      <th>...</th>\n",
       "      <td>...</td>\n",
       "      <td>...</td>\n",
       "      <td>...</td>\n",
       "      <td>...</td>\n",
       "      <td>...</td>\n",
       "      <td>...</td>\n",
       "    </tr>\n",
       "    <tr>\n",
       "      <th>SNURF</th>\n",
       "      <td>1.799797</td>\n",
       "      <td>-1.323111</td>\n",
       "      <td>0.393453</td>\n",
       "      <td>-3.362820</td>\n",
       "      <td>7.715053e-04</td>\n",
       "      <td>1.226070e-02</td>\n",
       "    </tr>\n",
       "    <tr>\n",
       "      <th>ZNF658</th>\n",
       "      <td>5.375386</td>\n",
       "      <td>-0.148399</td>\n",
       "      <td>0.230864</td>\n",
       "      <td>-0.642800</td>\n",
       "      <td>5.203539e-01</td>\n",
       "      <td>7.759740e-01</td>\n",
       "    </tr>\n",
       "    <tr>\n",
       "      <th>ORAI1</th>\n",
       "      <td>41.763087</td>\n",
       "      <td>-0.764692</td>\n",
       "      <td>0.115619</td>\n",
       "      <td>-6.613889</td>\n",
       "      <td>3.743535e-11</td>\n",
       "      <td>1.392940e-08</td>\n",
       "    </tr>\n",
       "    <tr>\n",
       "      <th>TADA2A</th>\n",
       "      <td>24.587803</td>\n",
       "      <td>0.638463</td>\n",
       "      <td>0.117939</td>\n",
       "      <td>5.413520</td>\n",
       "      <td>6.179768e-08</td>\n",
       "      <td>5.899834e-06</td>\n",
       "    </tr>\n",
       "    <tr>\n",
       "      <th>HERC2P2</th>\n",
       "      <td>1.812034</td>\n",
       "      <td>-0.673105</td>\n",
       "      <td>0.394170</td>\n",
       "      <td>-1.707651</td>\n",
       "      <td>8.770115e-02</td>\n",
       "      <td>3.045496e-01</td>\n",
       "    </tr>\n",
       "  </tbody>\n",
       "</table>\n",
       "<p>995 rows × 6 columns</p>\n",
       "</div>"
      ],
      "text/plain": [
       "          baseMean  log2FoldChange     lfcSE       stat        pvalue  \\\n",
       "FUCA2     3.564318       -0.334895  0.287092  -1.166509  2.434088e-01   \n",
       "BAD       5.352139       -0.594896  0.214380  -2.774957  5.520893e-03   \n",
       "DBNDD1   15.996572       -0.369774  0.224278  -1.648733  9.920244e-02   \n",
       "CD38     36.010215       -0.662390  0.129745  -5.105340  3.302002e-07   \n",
       "SKAP2    40.506096        1.501544  0.137132  10.949658  6.669915e-28   \n",
       "...            ...             ...       ...        ...           ...   \n",
       "SNURF     1.799797       -1.323111  0.393453  -3.362820  7.715053e-04   \n",
       "ZNF658    5.375386       -0.148399  0.230864  -0.642800  5.203539e-01   \n",
       "ORAI1    41.763087       -0.764692  0.115619  -6.613889  3.743535e-11   \n",
       "TADA2A   24.587803        0.638463  0.117939   5.413520  6.179768e-08   \n",
       "HERC2P2   1.812034       -0.673105  0.394170  -1.707651  8.770115e-02   \n",
       "\n",
       "                 padj  \n",
       "FUCA2    5.354994e-01  \n",
       "BAD      4.911824e-02  \n",
       "DBNDD1   3.278473e-01  \n",
       "CD38     2.359917e-05  \n",
       "SKAP2    8.532822e-24  \n",
       "...               ...  \n",
       "SNURF    1.226070e-02  \n",
       "ZNF658   7.759740e-01  \n",
       "ORAI1    1.392940e-08  \n",
       "TADA2A   5.899834e-06  \n",
       "HERC2P2  3.045496e-01  \n",
       "\n",
       "[995 rows x 6 columns]"
      ]
     },
     "execution_count": 7,
     "metadata": {},
     "output_type": "execute_result"
    }
   ],
   "source": [
    "ohyh[ohyh.pvalue < 0.05]\n",
    "osoh[osoh.pvalue < 0.05]\n",
    "osyh[osoh.pvalue < 0.05]"
   ]
  },
  {
   "cell_type": "markdown",
   "id": "5fec899c-60d8-4b48-aa9b-91c44fb341e3",
   "metadata": {},
   "source": [
    "## case1: common gene in **oh**"
   ]
  },
  {
   "cell_type": "code",
   "execution_count": 44,
   "id": "10739a79-f189-4905-8429-544fab54abd8",
   "metadata": {},
   "outputs": [
    {
     "name": "stdout",
     "output_type": "stream",
     "text": [
      "Counts of oh gene in ohyh: 186\n",
      "Counts of oh gene in osoh: 45\n",
      "Counts of oh common gene: 8\n"
     ]
    },
    {
     "data": {
      "image/png": "[encoded data removed]",
      "text/plain": [
       "<Figure size 300x300 with 1 Axes>"
      ]
     },
     "metadata": {},
     "output_type": "display_data"
    }
   ],
   "source": [
    "oh_ohyh = ohyh[(ohyh.pvalue < 0.05) & (ohyh.log2FoldChange>1)] # ohyh에서 추출\n",
    "oh_osoh = osoh[(osoh.pvalue < 0.05) & (osoh.log2FoldChange<-1)] # osoh에서 추출\n",
    "oh_common = oh_ohyh.index.intersection(oh_osoh.index)\n",
    "\n",
    "print(f\"Counts of oh gene in ohyh: {oh_ohyh.shape[0]}\")\n",
    "print(f\"Counts of oh gene in osoh: {oh_osoh.shape[0]}\")\n",
    "print(f\"Counts of oh common gene: {oh_common.shape[0]}\")\n",
    "\n",
    "plt.figure(figsize=(5, 5))\n",
    "venn2([set(oh_ohyh.index), set(oh_osoh.index)], ('Young Healthy', 'Old Sarcopenia'))\n",
    "plt.title('Old Healthy common gene counts')\n",
    "plt.show()"
   ]
  },
  {
   "cell_type": "markdown",
   "id": "4324b5d5-8fd3-4ff4-8b7b-3fbe54ba433f",
   "metadata": {},
   "source": [
    "## case2: common gene in **yh**"
   ]
  },
  {
   "cell_type": "code",
   "execution_count": 36,
   "id": "fb8fa3e2-d158-44fe-bdab-f945ade24c9f",
   "metadata": {},
   "outputs": [
    {
     "name": "stdout",
     "output_type": "stream",
     "text": [
      "Counts of yh gene in ohyh: 72\n",
      "Counts of yh gene in osyh: 109\n",
      "Counts of yh common gene: 41\n"
     ]
    },
    {
     "data": {
      "image/png": "[encoded data removed]",
      "text/plain": [
       "<Figure size 500x500 with 1 Axes>"
      ]
     },
     "metadata": {},
     "output_type": "display_data"
    }
   ],
   "source": [
    "yh_ohyh = ohyh[(ohyh.pvalue < 0.05) & (ohyh.log2FoldChange<-1)] # ohyh에서 추출\n",
    "yh_osyh = osyh[(osyh.pvalue < 0.05) & (osyh.log2FoldChange<-1)] # osyh에서 추출\n",
    "yh_common = yh_ohyh.index.intersection(yh_osyh.index)\n",
    "\n",
    "print(f\"Counts of yh gene in ohyh: {yh_ohyh.shape[0]}\")\n",
    "print(f\"Counts of yh gene in osyh: {yh_osyh.shape[0]}\")\n",
    "print(f\"Counts of yh common gene: {yh_common.shape[0]}\")\n",
    "\n",
    "plt.figure(figsize=(5, 5))\n",
    "venn2([set(yh_ohyh.index), set(yh_osyh.index)], ('Old Healthy', 'Old Sarcopenia'))\n",
    "plt.title('Young Healthy common gene counts')\n",
    "plt.show()"
   ]
  },
  {
   "cell_type": "markdown",
   "id": "44a4acbd-6e71-4295-b30b-f2a57e4b00f1",
   "metadata": {},
   "source": [
    "## case3: common gene in **os**"
   ]
  },
  {
   "cell_type": "code",
   "execution_count": 37,
   "id": "48a38c9e-ef14-42d6-a002-23e018e15b07",
   "metadata": {},
   "outputs": [
    {
     "name": "stdout",
     "output_type": "stream",
     "text": [
      "Counts of os gene in osoh: 45\n",
      "Counts of os gene in osyh: 257\n",
      "Counts of os common gene: 25\n"
     ]
    },
    {
     "data": {
      "image/png": "[encoded data removed]",
      "text/plain": [
       "<Figure size 500x500 with 1 Axes>"
      ]
     },
     "metadata": {},
     "output_type": "display_data"
    }
   ],
   "source": [
    "os_osoh = osoh[(osoh.pvalue < 0.05) & (osoh.log2FoldChange>1)] # osoh에서 추출\n",
    "os_osyh = osyh[(osyh.pvalue < 0.05) & (osyh.log2FoldChange>1)] # osyh에서 추출\n",
    "os_common = os_osoh.index.intersection(os_osyh.index)\n",
    "\n",
    "print(f\"Counts of os gene in osoh: {os_osoh.shape[0]}\")\n",
    "print(f\"Counts of os gene in osyh: {os_osyh.shape[0]}\")\n",
    "print(f\"Counts of os common gene: {os_common.shape[0]}\")\n",
    "\n",
    "\n",
    "plt.figure(figsize=(5, 5))\n",
    "venn2([set(os_osoh.index), set(os_osyh.index)], ('Old Healthy', 'Young Healthy'))\n",
    "plt.title('Old Sacropenia common gene counts')\n",
    "plt.show()"
   ]
  },
  {
   "cell_type": "code",
   "execution_count": 51,
   "id": "65dd1e6d-5d77-416b-9b05-4f855bfb4b93",
   "metadata": {},
   "outputs": [
    {
     "data": {
      "text/plain": [
       "Index(['LMO3', 'COL19A1', 'PNPLA3', 'PHEX', 'AREG', 'BTNL8', 'PEX5L', 'DLEU2L',\n",
       "       'MYCL', 'EDA2R', 'MYH8', 'CGREF1', 'TMEM132B', 'ANGPTL4', 'FOS',\n",
       "       'NHLH2', 'SLC47A2', 'ADIPOQ', 'CIDEC', 'COL25A1', 'RNU5B.1', 'TTC4P1',\n",
       "       'RPS15AP29', 'NDUFAF2P2', 'LINC00645'],\n",
       "      dtype='object')"
      ]
     },
     "execution_count": 51,
     "metadata": {},
     "output_type": "execute_result"
    }
   ],
   "source": [
    "os_common"
   ]
  },
  {
   "cell_type": "markdown",
   "id": "c5615b17-c2e3-454e-b851-f358bfa9d6d0",
   "metadata": {},
   "source": [
    "## venndiagram"
   ]
  },
  {
   "cell_type": "code",
   "execution_count": 45,
   "id": "459a799f-59f9-4c37-ac17-2477559d3a88",
   "metadata": {},
   "outputs": [
    {
     "data": {
      "image/png": "[encoded data removed]",
      "text/plain": [
       "<Figure size 500x500 with 1 Axes>"
      ]
     },
     "metadata": {},
     "output_type": "display_data"
    }
   ],
   "source": [
    "plt.figure(figsize=(8, 8))\n",
    "venn3([set(os_common), set(oh_common), set(yh_common)], ('Old Sarcopenia', 'Old Healthy', 'Young Healthy'))\n",
    "plt.title('Common gene counts')\n",
    "plt.show()"
   ]
  },
  {
   "cell_type": "markdown",
   "id": "50998d01-f1e6-482a-9d5c-02e9b06990f1",
   "metadata": {},
   "source": [
    "# Goal 3\n",
    "* gse167186, gse111016 사이 공통 유전자 개수 확인\n",
    "* cutoff 기준: pvalue < 0.05, |Log2FC| > 1"
   ]
  },
  {
   "cell_type": "markdown",
   "id": "1ab20fce-32c8-4803-a2ca-c0062e99edb5",
   "metadata": {},
   "source": [
    "## case1: common gene in **os**"
   ]
  },
  {
   "cell_type": "code",
   "execution_count": 46,
   "id": "85a79638-92ea-4d0d-82ad-fdc4a78b24bd",
   "metadata": {},
   "outputs": [
    {
     "name": "stdout",
     "output_type": "stream",
     "text": [
      "Counts of os gene in osoh: 45\n",
      "Counts of os gene in osoh_: 28\n"
     ]
    },
    {
     "data": {
      "image/png": "[encoded data removed]",
      "text/plain": [
       "<Figure size 500x500 with 1 Axes>"
      ]
     },
     "metadata": {},
     "output_type": "display_data"
    }
   ],
   "source": [
    "os_osoh = osoh[(osoh.pvalue < 0.05) & (osoh.log2FoldChange>1)] # osoh에서 추출\n",
    "os_osoh_ = osoh_[(osoh_.pvalue < 0.05) & (osoh_.log2FoldChange>1)] # osoh에서 추출\n",
    "\n",
    "print(f\"Counts of os gene in osoh: {os_osoh.shape[0]}\")\n",
    "print(f\"Counts of os gene in osoh_: {os_osoh_.shape[0]}\")\n",
    "\n",
    "plt.figure(figsize=(5, 5))\n",
    "venn2([set(os_osoh.index), set(os_osoh_.index)], ('GSE167186', 'GSE111016'))\n",
    "plt.title('Old Sacropenia common gene counts')\n",
    "plt.show()"
   ]
  },
  {
   "cell_type": "code",
   "execution_count": 96,
   "id": "d7284613-3411-4048-a0fc-88a38479cf4a",
   "metadata": {},
   "outputs": [
    {
     "data": {
      "text/plain": [
       "Index(['PLIN1', 'CIDEC'], dtype='object')"
      ]
     },
     "execution_count": 96,
     "metadata": {},
     "output_type": "execute_result"
    }
   ],
   "source": [
    "os_osoh.index.intersection(os_osoh_.index)"
   ]
  },
  {
   "cell_type": "markdown",
   "id": "aeaf5efb-30fb-423c-b6b5-0da8c9186477",
   "metadata": {},
   "source": [
    "## case2: common gene in **oh**"
   ]
  },
  {
   "cell_type": "code",
   "execution_count": 47,
   "id": "3f240c08-4f70-4033-9c8e-d1f42350e5b9",
   "metadata": {},
   "outputs": [
    {
     "name": "stdout",
     "output_type": "stream",
     "text": [
      "Counts of oh gene in osoh: 45\n",
      "Counts of oh gene in osoh_: 4\n"
     ]
    },
    {
     "data": {
      "image/png": "[encoded data removed]",
      "text/plain": [
       "<Figure size 500x500 with 1 Axes>"
      ]
     },
     "metadata": {},
     "output_type": "display_data"
    }
   ],
   "source": [
    "oh_osoh = osoh[(osoh.pvalue < 0.05) & (osoh.log2FoldChange<-1)] # osoh에서 추출\n",
    "oh_osoh_ = osoh_[(osoh_.pvalue < 0.05) & (osoh_.log2FoldChange<-1)] # osoh에서 추출\n",
    "\n",
    "print(f\"Counts of oh gene in osoh: {oh_osoh.shape[0]}\")\n",
    "print(f\"Counts of oh gene in osoh_: {oh_osoh_.shape[0]}\")\n",
    "\n",
    "plt.figure(figsize=(5, 5))\n",
    "venn2([set(oh_osoh.index), set(oh_osoh_.index)], ('GSE167186', 'GSE111016'))\n",
    "plt.title('Old Healthy common gene counts')\n",
    "plt.show()"
   ]
  },
  {
   "cell_type": "code",
   "execution_count": 49,
   "id": "62afcc80-b271-4f9b-90f1-01d8cd24e0b1",
   "metadata": {},
   "outputs": [
    {
     "data": {
      "text/plain": [
       "Index(['PLIN1', 'CIDEC'], dtype='object')"
      ]
     },
     "execution_count": 49,
     "metadata": {},
     "output_type": "execute_result"
    }
   ],
   "source": [
    "os_osoh.index.intersection(os_osoh_.index)"
   ]
  },
  {
   "cell_type": "code",
   "execution_count": null,
   "id": "796d431e-2b49-47e5-a678-5fc19559041d",
   "metadata": {},
   "outputs": [],
   "source": []
  }
 ],
 "metadata": {
  "kernelspec": {
   "display_name": "Python 3 (ipykernel)",
   "language": "python",
   "name": "python3"
  },
  "language_info": {
   "codemirror_mode": {
    "name": "ipython",
    "version": 3
   },
   "file_extension": ".py",
   "mimetype": "text/x-python",
   "name": "python",
   "nbconvert_exporter": "python",
   "pygments_lexer": "ipython3",
   "version": "3.9.0"
  }
 },
 "nbformat": 4,
 "nbformat_minor": 5
}
