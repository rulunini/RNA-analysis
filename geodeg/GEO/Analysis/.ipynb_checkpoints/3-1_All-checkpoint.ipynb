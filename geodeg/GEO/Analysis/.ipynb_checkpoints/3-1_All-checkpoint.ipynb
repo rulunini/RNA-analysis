{
 "cells": [
  {
   "cell_type": "code",
   "execution_count": 3,
   "id": "08c14522-bb49-4197-84e6-8ed4bce377fc",
   "metadata": {},
   "outputs": [
    {
     "name": "stderr",
     "output_type": "stream",
     "text": [
      "/Users/soheepark/anaconda3/envs/pydeseq2/lib/python3.9/site-packages/tqdm/auto.py:21: TqdmWarning: IProgress not found. Please update jupyter and ipywidgets. See https://ipywidgets.readthedocs.io/en/stable/user_install.html\n",
      "  from .autonotebook import tqdm as notebook_tqdm\n"
     ]
    }
   ],
   "source": [
    "import pydeseq2\n",
    "from pydeseq2.dds import DeseqDataSet\n",
    "from pydeseq2.default_inference import DefaultInference\n",
    "from pydeseq2.ds import DeseqStats\n",
    "from pydeseq2.utils import load_example_data\n",
    "\n",
    "import pandas as pd\n",
    "import scanpy as sc\n",
    "import numpy as np\n",
    "import seaborn as sns\n",
    "import matplotlib.pyplot as plt"
   ]
  },
  {
   "cell_type": "markdown",
   "id": "f750839a-3476-43dc-a756-f49e0d64366d",
   "metadata": {
    "tags": []
   },
   "source": [
    "# Load data"
   ]
  },
  {
   "cell_type": "code",
   "execution_count": 4,
   "id": "792cd2a1-3ae8-4544-9427-11843fdab825",
   "metadata": {},
   "outputs": [],
   "source": [
    "meta16 = pd.read_csv('GSE167186_metadata_matrix.csv', sep='\\t', index_col=[0])\n",
    "counts16 = pd.read_csv('GSE167186_counts_matrix.csv', sep='\\t', index_col=[0], low_memory=False)\n",
    "\n",
    "meta11 = pd.read_csv('./GSE111006_metadata_matrix.csv', sep='\\t', index_col=[0])\n",
    "counts11 = pd.read_csv('./GSE111006_counts_matrix.csv', sep='\\t', index_col=[0], low_memory=False)"
   ]
  },
  {
   "cell_type": "code",
   "execution_count": 12,
   "id": "deeda430-98e5-4395-9507-6336d9b9b2b5",
   "metadata": {},
   "outputs": [
    {
     "name": "stdout",
     "output_type": "stream",
     "text": [
      "GSE167186: (72, 22126)\n"
     ]
    },
    {
     "data": {
      "text/html": [
       "<div>\n",
       "<style scoped>\n",
       "    .dataframe tbody tr th:only-of-type {\n",
       "        vertical-align: middle;\n",
       "    }\n",
       "\n",
       "    .dataframe tbody tr th {\n",
       "        vertical-align: top;\n",
       "    }\n",
       "\n",
       "    .dataframe thead th {\n",
       "        text-align: right;\n",
       "    }\n",
       "</style>\n",
       "<table border=\"1\" class=\"dataframe\">\n",
       "  <thead>\n",
       "    <tr style=\"text-align: right;\">\n",
       "      <th></th>\n",
       "      <th>TSPAN6</th>\n",
       "      <th>TNMD</th>\n",
       "      <th>DPM1</th>\n",
       "      <th>SCYL3</th>\n",
       "      <th>C1orf112</th>\n",
       "      <th>FGR</th>\n",
       "      <th>CFH</th>\n",
       "      <th>FUCA2</th>\n",
       "      <th>GCLC</th>\n",
       "      <th>NFYA</th>\n",
       "      <th>...</th>\n",
       "      <th>KMT5AP1</th>\n",
       "      <th>BCLAF1P2</th>\n",
       "      <th>LINC01126</th>\n",
       "      <th>CCDC28A.AS1</th>\n",
       "      <th>RPL23AP61</th>\n",
       "      <th>GATD3B</th>\n",
       "      <th>PCDH20</th>\n",
       "      <th>UCKL1.AS1</th>\n",
       "      <th>FRG1KP</th>\n",
       "      <th>ERICD</th>\n",
       "    </tr>\n",
       "    <tr>\n",
       "      <th>Sample</th>\n",
       "      <th></th>\n",
       "      <th></th>\n",
       "      <th></th>\n",
       "      <th></th>\n",
       "      <th></th>\n",
       "      <th></th>\n",
       "      <th></th>\n",
       "      <th></th>\n",
       "      <th></th>\n",
       "      <th></th>\n",
       "      <th></th>\n",
       "      <th></th>\n",
       "      <th></th>\n",
       "      <th></th>\n",
       "      <th></th>\n",
       "      <th></th>\n",
       "      <th></th>\n",
       "      <th></th>\n",
       "      <th></th>\n",
       "      <th></th>\n",
       "      <th></th>\n",
       "    </tr>\n",
       "  </thead>\n",
       "  <tbody>\n",
       "    <tr>\n",
       "      <th>OS_10</th>\n",
       "      <td>6</td>\n",
       "      <td>0</td>\n",
       "      <td>20</td>\n",
       "      <td>18</td>\n",
       "      <td>1</td>\n",
       "      <td>3</td>\n",
       "      <td>34</td>\n",
       "      <td>8</td>\n",
       "      <td>11</td>\n",
       "      <td>3</td>\n",
       "      <td>...</td>\n",
       "      <td>1</td>\n",
       "      <td>2</td>\n",
       "      <td>0</td>\n",
       "      <td>0</td>\n",
       "      <td>0</td>\n",
       "      <td>0</td>\n",
       "      <td>0</td>\n",
       "      <td>4</td>\n",
       "      <td>0</td>\n",
       "      <td>0</td>\n",
       "    </tr>\n",
       "    <tr>\n",
       "      <th>OH_11</th>\n",
       "      <td>8</td>\n",
       "      <td>1</td>\n",
       "      <td>35</td>\n",
       "      <td>10</td>\n",
       "      <td>2</td>\n",
       "      <td>1</td>\n",
       "      <td>30</td>\n",
       "      <td>2</td>\n",
       "      <td>17</td>\n",
       "      <td>2</td>\n",
       "      <td>...</td>\n",
       "      <td>0</td>\n",
       "      <td>0</td>\n",
       "      <td>0</td>\n",
       "      <td>0</td>\n",
       "      <td>0</td>\n",
       "      <td>0</td>\n",
       "      <td>0</td>\n",
       "      <td>2</td>\n",
       "      <td>0</td>\n",
       "      <td>0</td>\n",
       "    </tr>\n",
       "    <tr>\n",
       "      <th>OS_13</th>\n",
       "      <td>10</td>\n",
       "      <td>0</td>\n",
       "      <td>14</td>\n",
       "      <td>6</td>\n",
       "      <td>1</td>\n",
       "      <td>1</td>\n",
       "      <td>35</td>\n",
       "      <td>2</td>\n",
       "      <td>15</td>\n",
       "      <td>3</td>\n",
       "      <td>...</td>\n",
       "      <td>0</td>\n",
       "      <td>0</td>\n",
       "      <td>0</td>\n",
       "      <td>0</td>\n",
       "      <td>0</td>\n",
       "      <td>0</td>\n",
       "      <td>0</td>\n",
       "      <td>0</td>\n",
       "      <td>0</td>\n",
       "      <td>0</td>\n",
       "    </tr>\n",
       "    <tr>\n",
       "      <th>OH_14</th>\n",
       "      <td>6</td>\n",
       "      <td>0</td>\n",
       "      <td>22</td>\n",
       "      <td>18</td>\n",
       "      <td>1</td>\n",
       "      <td>0</td>\n",
       "      <td>11</td>\n",
       "      <td>4</td>\n",
       "      <td>18</td>\n",
       "      <td>5</td>\n",
       "      <td>...</td>\n",
       "      <td>1</td>\n",
       "      <td>0</td>\n",
       "      <td>0</td>\n",
       "      <td>0</td>\n",
       "      <td>0</td>\n",
       "      <td>0</td>\n",
       "      <td>0</td>\n",
       "      <td>2</td>\n",
       "      <td>0</td>\n",
       "      <td>0</td>\n",
       "    </tr>\n",
       "    <tr>\n",
       "      <th>OH_15</th>\n",
       "      <td>4</td>\n",
       "      <td>1</td>\n",
       "      <td>17</td>\n",
       "      <td>9</td>\n",
       "      <td>2</td>\n",
       "      <td>0</td>\n",
       "      <td>27</td>\n",
       "      <td>7</td>\n",
       "      <td>15</td>\n",
       "      <td>4</td>\n",
       "      <td>...</td>\n",
       "      <td>0</td>\n",
       "      <td>2</td>\n",
       "      <td>0</td>\n",
       "      <td>1</td>\n",
       "      <td>0</td>\n",
       "      <td>0</td>\n",
       "      <td>0</td>\n",
       "      <td>2</td>\n",
       "      <td>0</td>\n",
       "      <td>0</td>\n",
       "    </tr>\n",
       "  </tbody>\n",
       "</table>\n",
       "<p>5 rows × 22126 columns</p>\n",
       "</div>"
      ],
      "text/plain": [
       "        TSPAN6  TNMD  DPM1  SCYL3  C1orf112  FGR  CFH  FUCA2  GCLC  NFYA  ...  \\\n",
       "Sample                                                                    ...   \n",
       "OS_10        6     0    20     18         1    3   34      8    11     3  ...   \n",
       "OH_11        8     1    35     10         2    1   30      2    17     2  ...   \n",
       "OS_13       10     0    14      6         1    1   35      2    15     3  ...   \n",
       "OH_14        6     0    22     18         1    0   11      4    18     5  ...   \n",
       "OH_15        4     1    17      9         2    0   27      7    15     4  ...   \n",
       "\n",
       "        KMT5AP1  BCLAF1P2  LINC01126  CCDC28A.AS1  RPL23AP61  GATD3B  PCDH20  \\\n",
       "Sample                                                                         \n",
       "OS_10         1         2          0            0          0       0       0   \n",
       "OH_11         0         0          0            0          0       0       0   \n",
       "OS_13         0         0          0            0          0       0       0   \n",
       "OH_14         1         0          0            0          0       0       0   \n",
       "OH_15         0         2          0            1          0       0       0   \n",
       "\n",
       "        UCKL1.AS1  FRG1KP  ERICD  \n",
       "Sample                            \n",
       "OS_10           4       0      0  \n",
       "OH_11           2       0      0  \n",
       "OS_13           0       0      0  \n",
       "OH_14           2       0      0  \n",
       "OH_15           2       0      0  \n",
       "\n",
       "[5 rows x 22126 columns]"
      ]
     },
     "execution_count": 12,
     "metadata": {},
     "output_type": "execute_result"
    }
   ],
   "source": [
    "print(f'GSE167186: {counts16.shape}')\n",
    "counts16.head()"
   ]
  },
  {
   "cell_type": "code",
   "execution_count": 14,
   "id": "4f36f00b-fc96-4789-8014-71b02adbf37e",
   "metadata": {},
   "outputs": [
    {
     "name": "stdout",
     "output_type": "stream",
     "text": [
      "GSE111006: (40, 36683)\n"
     ]
    },
    {
     "data": {
      "text/html": [
       "<div>\n",
       "<style scoped>\n",
       "    .dataframe tbody tr th:only-of-type {\n",
       "        vertical-align: middle;\n",
       "    }\n",
       "\n",
       "    .dataframe tbody tr th {\n",
       "        vertical-align: top;\n",
       "    }\n",
       "\n",
       "    .dataframe thead th {\n",
       "        text-align: right;\n",
       "    }\n",
       "</style>\n",
       "<table border=\"1\" class=\"dataframe\">\n",
       "  <thead>\n",
       "    <tr style=\"text-align: right;\">\n",
       "      <th></th>\n",
       "      <th>TSPAN6</th>\n",
       "      <th>TNMD</th>\n",
       "      <th>DPM1</th>\n",
       "      <th>SCYL3</th>\n",
       "      <th>FIRRM</th>\n",
       "      <th>FGR</th>\n",
       "      <th>CFH</th>\n",
       "      <th>FUCA2</th>\n",
       "      <th>GCLC</th>\n",
       "      <th>NFYA</th>\n",
       "      <th>...</th>\n",
       "      <th>LINC00550</th>\n",
       "      <th>LINC01394</th>\n",
       "      <th>HCP5B</th>\n",
       "      <th>LINC00602</th>\n",
       "      <th>MIR1291</th>\n",
       "      <th>LINC00891</th>\n",
       "      <th>PAUPAR</th>\n",
       "      <th>ASMER1</th>\n",
       "      <th>HERC2P7</th>\n",
       "      <th>LINC01144</th>\n",
       "    </tr>\n",
       "  </thead>\n",
       "  <tbody>\n",
       "    <tr>\n",
       "      <th>Sample 1</th>\n",
       "      <td>124</td>\n",
       "      <td>7</td>\n",
       "      <td>536</td>\n",
       "      <td>402</td>\n",
       "      <td>141</td>\n",
       "      <td>52</td>\n",
       "      <td>820</td>\n",
       "      <td>150</td>\n",
       "      <td>796</td>\n",
       "      <td>512</td>\n",
       "      <td>...</td>\n",
       "      <td>0</td>\n",
       "      <td>1</td>\n",
       "      <td>11</td>\n",
       "      <td>1</td>\n",
       "      <td>1</td>\n",
       "      <td>1</td>\n",
       "      <td>0</td>\n",
       "      <td>14</td>\n",
       "      <td>0</td>\n",
       "      <td>10</td>\n",
       "    </tr>\n",
       "    <tr>\n",
       "      <th>Sample 2</th>\n",
       "      <td>145</td>\n",
       "      <td>6</td>\n",
       "      <td>839</td>\n",
       "      <td>538</td>\n",
       "      <td>119</td>\n",
       "      <td>87</td>\n",
       "      <td>1022</td>\n",
       "      <td>192</td>\n",
       "      <td>844</td>\n",
       "      <td>479</td>\n",
       "      <td>...</td>\n",
       "      <td>0</td>\n",
       "      <td>0</td>\n",
       "      <td>13</td>\n",
       "      <td>1</td>\n",
       "      <td>0</td>\n",
       "      <td>3</td>\n",
       "      <td>0</td>\n",
       "      <td>12</td>\n",
       "      <td>0</td>\n",
       "      <td>13</td>\n",
       "    </tr>\n",
       "    <tr>\n",
       "      <th>Sample 3</th>\n",
       "      <td>61</td>\n",
       "      <td>10</td>\n",
       "      <td>415</td>\n",
       "      <td>244</td>\n",
       "      <td>73</td>\n",
       "      <td>25</td>\n",
       "      <td>579</td>\n",
       "      <td>119</td>\n",
       "      <td>397</td>\n",
       "      <td>282</td>\n",
       "      <td>...</td>\n",
       "      <td>0</td>\n",
       "      <td>0</td>\n",
       "      <td>1</td>\n",
       "      <td>0</td>\n",
       "      <td>0</td>\n",
       "      <td>5</td>\n",
       "      <td>0</td>\n",
       "      <td>5</td>\n",
       "      <td>0</td>\n",
       "      <td>15</td>\n",
       "    </tr>\n",
       "    <tr>\n",
       "      <th>Sample 4</th>\n",
       "      <td>110</td>\n",
       "      <td>16</td>\n",
       "      <td>690</td>\n",
       "      <td>486</td>\n",
       "      <td>169</td>\n",
       "      <td>76</td>\n",
       "      <td>1027</td>\n",
       "      <td>243</td>\n",
       "      <td>658</td>\n",
       "      <td>582</td>\n",
       "      <td>...</td>\n",
       "      <td>0</td>\n",
       "      <td>1</td>\n",
       "      <td>10</td>\n",
       "      <td>0</td>\n",
       "      <td>0</td>\n",
       "      <td>5</td>\n",
       "      <td>1</td>\n",
       "      <td>31</td>\n",
       "      <td>0</td>\n",
       "      <td>14</td>\n",
       "    </tr>\n",
       "    <tr>\n",
       "      <th>Sample 5</th>\n",
       "      <td>122</td>\n",
       "      <td>124</td>\n",
       "      <td>825</td>\n",
       "      <td>538</td>\n",
       "      <td>96</td>\n",
       "      <td>27</td>\n",
       "      <td>1165</td>\n",
       "      <td>231</td>\n",
       "      <td>857</td>\n",
       "      <td>469</td>\n",
       "      <td>...</td>\n",
       "      <td>1</td>\n",
       "      <td>3</td>\n",
       "      <td>9</td>\n",
       "      <td>0</td>\n",
       "      <td>1</td>\n",
       "      <td>4</td>\n",
       "      <td>0</td>\n",
       "      <td>17</td>\n",
       "      <td>2</td>\n",
       "      <td>14</td>\n",
       "    </tr>\n",
       "  </tbody>\n",
       "</table>\n",
       "<p>5 rows × 36683 columns</p>\n",
       "</div>"
      ],
      "text/plain": [
       "          TSPAN6  TNMD  DPM1  SCYL3  FIRRM  FGR   CFH  FUCA2  GCLC  NFYA  ...  \\\n",
       "Sample 1     124     7   536    402    141   52   820    150   796   512  ...   \n",
       "Sample 2     145     6   839    538    119   87  1022    192   844   479  ...   \n",
       "Sample 3      61    10   415    244     73   25   579    119   397   282  ...   \n",
       "Sample 4     110    16   690    486    169   76  1027    243   658   582  ...   \n",
       "Sample 5     122   124   825    538     96   27  1165    231   857   469  ...   \n",
       "\n",
       "          LINC00550  LINC01394  HCP5B  LINC00602  MIR1291  LINC00891  PAUPAR  \\\n",
       "Sample 1          0          1     11          1        1          1       0   \n",
       "Sample 2          0          0     13          1        0          3       0   \n",
       "Sample 3          0          0      1          0        0          5       0   \n",
       "Sample 4          0          1     10          0        0          5       1   \n",
       "Sample 5          1          3      9          0        1          4       0   \n",
       "\n",
       "          ASMER1  HERC2P7  LINC01144  \n",
       "Sample 1      14        0         10  \n",
       "Sample 2      12        0         13  \n",
       "Sample 3       5        0         15  \n",
       "Sample 4      31        0         14  \n",
       "Sample 5      17        2         14  \n",
       "\n",
       "[5 rows x 36683 columns]"
      ]
     },
     "execution_count": 14,
     "metadata": {},
     "output_type": "execute_result"
    }
   ],
   "source": [
    "print(f'GSE111006: {counts11.shape}')\n",
    "counts11.head()"
   ]
  },
  {
   "cell_type": "markdown",
   "id": "f3bc6879-bb50-44ba-995a-98337860e4ba",
   "metadata": {},
   "source": [
    "# PCA"
   ]
  },
  {
   "cell_type": "code",
   "execution_count": 7,
   "id": "0ec9ad1d-ce6b-41fc-a5d0-7f4bef3999ba",
   "metadata": {},
   "outputs": [
    {
     "data": {
      "text/plain": [
       "AnnData object with n_obs × n_vars = 72 × 22126\n",
       "    obs: 'Condition'\n",
       "    obsm: 'design_matrix'"
      ]
     },
     "execution_count": 7,
     "metadata": {},
     "output_type": "execute_result"
    }
   ],
   "source": [
    "dds16 = DeseqDataSet(counts=counts16,\n",
    "                     metadata=meta16,\n",
    "                     design_factors=\"Condition\")\n",
    "dds16"
   ]
  },
  {
   "cell_type": "code",
   "execution_count": 8,
   "id": "9ca6b2ae-80ac-46e5-9f74-823c6c816430",
   "metadata": {},
   "outputs": [
    {
     "data": {
      "text/plain": [
       "AnnData object with n_obs × n_vars = 40 × 36683\n",
       "    obs: 'Condition'\n",
       "    obsm: 'design_matrix'"
      ]
     },
     "execution_count": 8,
     "metadata": {},
     "output_type": "execute_result"
    }
   ],
   "source": [
    "dds11 = DeseqDataSet(counts=counts11,\n",
    "                     metadata=meta11,\n",
    "                     design_factors=\"Condition\")\n",
    "dds11"
   ]
  },
  {
   "cell_type": "code",
   "execution_count": 9,
   "id": "a51fe98a-d7f4-48a1-aad7-aab37fd10323",
   "metadata": {},
   "outputs": [
    {
     "data": {
      "text/plain": [
       "AnnData object with n_obs × n_vars = 112 × 20051\n",
       "    obs: 'Condition', 'batch'\n",
       "    obsm: 'design_matrix'"
      ]
     },
     "execution_count": 9,
     "metadata": {},
     "output_type": "execute_result"
    }
   ],
   "source": [
    "dds = dds16.concatenate(dds11)\n",
    "dds"
   ]
  },
  {
   "cell_type": "code",
   "execution_count": 10,
   "id": "78ff6a2b-78e9-4f5b-baba-ecfd62413ff9",
   "metadata": {},
   "outputs": [
    {
     "data": {
      "text/plain": [
       "array(['Sarcopenia', 'Old Healthy', 'Young Healthy', 'OH', 'OS'],\n",
       "      dtype=object)"
      ]
     },
     "execution_count": 10,
     "metadata": {},
     "output_type": "execute_result"
    }
   ],
   "source": [
    "dds.obs.Condition.unique()"
   ]
  },
  {
   "cell_type": "code",
   "execution_count": 11,
   "id": "b77b1a00-8b10-4408-b197-c5484ce9b5f9",
   "metadata": {},
   "outputs": [
    {
     "data": {
      "image/png": "[encoded data removed]",
      "text/plain": [
       "<Figure size 640x480 with 1 Axes>"
      ]
     },
     "metadata": {},
     "output_type": "display_data"
    }
   ],
   "source": [
    "sc.tl.pca(dds)\n",
    "sc.pl.pca(dds, color='Condition', size=200)"
   ]
  },
  {
   "cell_type": "markdown",
   "id": "4ce6d348-6e1c-4471-a1ca-75fa7b4b030d",
   "metadata": {},
   "source": [
    "# DEG analysis"
   ]
  },
  {
   "cell_type": "markdown",
   "id": "bbd04979-032c-4369-bf90-a60c43a7ed24",
   "metadata": {},
   "source": [
    "## Build merged DeseqDataSet"
   ]
  },
  {
   "cell_type": "code",
   "execution_count": 12,
   "id": "e701bb87-dfab-4026-b401-c03d96a3c3de",
   "metadata": {},
   "outputs": [
    {
     "data": {
      "text/html": [
       "<div>\n",
       "<style scoped>\n",
       "    .dataframe tbody tr th:only-of-type {\n",
       "        vertical-align: middle;\n",
       "    }\n",
       "\n",
       "    .dataframe tbody tr th {\n",
       "        vertical-align: top;\n",
       "    }\n",
       "\n",
       "    .dataframe thead th {\n",
       "        text-align: right;\n",
       "    }\n",
       "</style>\n",
       "<table border=\"1\" class=\"dataframe\">\n",
       "  <thead>\n",
       "    <tr style=\"text-align: right;\">\n",
       "      <th></th>\n",
       "      <th>Condition</th>\n",
       "    </tr>\n",
       "    <tr>\n",
       "      <th>Sample</th>\n",
       "      <th></th>\n",
       "    </tr>\n",
       "  </thead>\n",
       "  <tbody>\n",
       "    <tr>\n",
       "      <th>OS_10</th>\n",
       "      <td>OS</td>\n",
       "    </tr>\n",
       "    <tr>\n",
       "      <th>OH_11</th>\n",
       "      <td>OH</td>\n",
       "    </tr>\n",
       "    <tr>\n",
       "      <th>OS_13</th>\n",
       "      <td>OS</td>\n",
       "    </tr>\n",
       "    <tr>\n",
       "      <th>OH_14</th>\n",
       "      <td>OH</td>\n",
       "    </tr>\n",
       "    <tr>\n",
       "      <th>OH_15</th>\n",
       "      <td>OH</td>\n",
       "    </tr>\n",
       "  </tbody>\n",
       "</table>\n",
       "</div>"
      ],
      "text/plain": [
       "       Condition\n",
       "Sample          \n",
       "OS_10         OS\n",
       "OH_11         OH\n",
       "OS_13         OS\n",
       "OH_14         OH\n",
       "OH_15         OH"
      ]
     },
     "execution_count": 12,
     "metadata": {},
     "output_type": "execute_result"
    }
   ],
   "source": [
    "# 비교를 위해 dds16 라벨 변경\n",
    "Sample_type = {'Old Healthy':'OH',\n",
    "               'Sarcopenia':'OS',\n",
    "               'Young Healthy':'YH',\n",
    "               'OH':'OH',\n",
    "               'OS':'OS'\n",
    "               }\n",
    "dds16.obs['Condition'] = dds16.obs['Condition'].map(Sample_type)\n",
    "dds16.obs.head()"
   ]
  },
  {
   "cell_type": "code",
   "execution_count": 13,
   "id": "e7dc2c02-920b-4e1d-a0e8-c026bc765157",
   "metadata": {},
   "outputs": [
    {
     "data": {
      "text/plain": [
       "AnnData object with n_obs × n_vars = 112 × 20051\n",
       "    obs: 'Condition', 'batch'\n",
       "    obsm: 'design_matrix'"
      ]
     },
     "execution_count": 13,
     "metadata": {},
     "output_type": "execute_result"
    }
   ],
   "source": [
    "# Concatenate\n",
    "dds = dds16.concatenate(dds11)\n",
    "dds"
   ]
  },
  {
   "cell_type": "code",
   "execution_count": 14,
   "id": "400323ec-82d2-49dd-a584-b61cc61c6325",
   "metadata": {
    "scrolled": true
   },
   "outputs": [
    {
     "name": "stderr",
     "output_type": "stream",
     "text": [
      "Fitting size factors...\n",
      "... done in 0.09 seconds.\n",
      "\n",
      "Fitting dispersions...\n",
      "... done in 7.34 seconds.\n",
      "\n",
      "Fitting dispersion trend curve...\n",
      "... done in 0.72 seconds.\n",
      "\n",
      "Fitting MAP dispersions...\n",
      "... done in 9.38 seconds.\n",
      "\n",
      "Fitting LFCs...\n",
      "... done in 6.25 seconds.\n",
      "\n",
      "Replacing 106 outlier genes.\n",
      "\n",
      "Fitting dispersions...\n",
      "... done in 0.08 seconds.\n",
      "\n",
      "Fitting MAP dispersions...\n",
      "... done in 0.08 seconds.\n",
      "\n",
      "Fitting LFCs...\n",
      "... done in 0.07 seconds.\n",
      "\n"
     ]
    }
   ],
   "source": [
    "# Merging\n",
    "dds = DeseqDataSet(counts=dds.X,\n",
    "                   metadata=pd.DataFrame(dds.obs.Condition),\n",
    "                   design_factors=\"Condition\")\n",
    "dds.deseq2()"
   ]
  },
  {
   "cell_type": "code",
   "execution_count": 15,
   "id": "040ebeca-f417-43c6-bd0d-3d7f42fb57ed",
   "metadata": {
    "scrolled": true
   },
   "outputs": [
    {
     "name": "stderr",
     "output_type": "stream",
     "text": [
      "Fitting size factors...\n",
      "... done in 0.11 seconds.\n",
      "\n",
      "Fitting dispersions...\n",
      "... done in 7.48 seconds.\n",
      "\n",
      "Fitting dispersion trend curve...\n",
      "... done in 0.68 seconds.\n",
      "\n",
      "Fitting MAP dispersions...\n",
      "... done in 9.15 seconds.\n",
      "\n",
      "Fitting LFCs...\n",
      "... done in 5.85 seconds.\n",
      "\n",
      "Replacing 106 outlier genes.\n",
      "\n",
      "Fitting dispersions...\n",
      "... done in 0.08 seconds.\n",
      "\n",
      "Fitting MAP dispersions...\n",
      "... done in 0.09 seconds.\n",
      "\n",
      "Fitting LFCs...\n",
      "... done in 0.07 seconds.\n",
      "\n"
     ]
    }
   ],
   "source": [
    "# deseq 계산\n",
    "dds.deseq2()"
   ]
  },
  {
   "cell_type": "code",
   "execution_count": 16,
   "id": "591f3b68-5a4e-4d4d-bfc2-fe46f99fd9b7",
   "metadata": {},
   "outputs": [
    {
     "data": {
      "text/plain": [
       "array(['OS', 'OH', 'YH'], dtype=object)"
      ]
     },
     "execution_count": 16,
     "metadata": {},
     "output_type": "execute_result"
    }
   ],
   "source": [
    "dds.obs.Condition.unique()"
   ]
  },
  {
   "cell_type": "code",
   "execution_count": 121,
   "id": "5a2ece67-4898-4329-805d-d26db4c1fa05",
   "metadata": {},
   "outputs": [
    {
     "name": "stderr",
     "output_type": "stream",
     "text": [
      "Running Wald tests...\n"
     ]
    },
    {
     "name": "stdout",
     "output_type": "stream",
     "text": [
      "Log2 fold change & Wald test p-value: Condition OS vs OH\n",
      "        baseMean  log2FoldChange     lfcSE      stat    pvalue      padj\n",
      "0      16.390778        0.032650  0.090319  0.361496  0.717729  0.999972\n",
      "1       2.451843       -0.017949  0.401740 -0.044679  0.964363  0.999972\n",
      "2      73.441410       -0.066540  0.060827 -1.093916  0.273992  0.999972\n",
      "3      40.137679        0.007231  0.098091  0.073720  0.941233  0.999972\n",
      "4       3.984815        0.048123  0.246532  0.195201  0.845236  0.999972\n",
      "...          ...             ...       ...       ...       ...       ...\n",
      "20046   1.211245        0.160797  0.397136  0.404890  0.685558  0.999972\n",
      "20047   0.707150       -0.078745  1.053451 -0.074750  0.940414  0.999972\n",
      "20048   0.063948       -0.246842  1.640392 -0.150477  0.880388  0.999972\n",
      "20049   0.139826        0.030973  0.502103  0.061686  0.950813  0.999972\n",
      "20050   0.633480        0.239236  0.303778  0.787536  0.430968  0.999972\n",
      "\n",
      "[20051 rows x 6 columns]\n"
     ]
    },
    {
     "name": "stderr",
     "output_type": "stream",
     "text": [
      "... done in 1.96 seconds.\n",
      "\n"
     ]
    }
   ],
   "source": [
    "stat_res = DeseqStats(dds, contrast=('Condition',\n",
    "                                      dds.obs.Condition.unique()[0],\n",
    "                                      dds.obs.Condition.unique()[1])) \n",
    "stat_res.summary()"
   ]
  },
  {
   "cell_type": "code",
   "execution_count": 122,
   "id": "74796c9c-724a-4a89-a22c-84eb59efe759",
   "metadata": {
    "scrolled": true
   },
   "outputs": [
    {
     "data": {
      "text/html": [
       "<div>\n",
       "<style scoped>\n",
       "    .dataframe tbody tr th:only-of-type {\n",
       "        vertical-align: middle;\n",
       "    }\n",
       "\n",
       "    .dataframe tbody tr th {\n",
       "        vertical-align: top;\n",
       "    }\n",
       "\n",
       "    .dataframe thead th {\n",
       "        text-align: right;\n",
       "    }\n",
       "</style>\n",
       "<table border=\"1\" class=\"dataframe\">\n",
       "  <thead>\n",
       "    <tr style=\"text-align: right;\">\n",
       "      <th></th>\n",
       "      <th>baseMean</th>\n",
       "      <th>log2FoldChange</th>\n",
       "      <th>lfcSE</th>\n",
       "      <th>stat</th>\n",
       "      <th>pvalue</th>\n",
       "      <th>padj</th>\n",
       "    </tr>\n",
       "  </thead>\n",
       "  <tbody>\n",
       "    <tr>\n",
       "      <th>0</th>\n",
       "      <td>16.390778</td>\n",
       "      <td>0.032650</td>\n",
       "      <td>0.090319</td>\n",
       "      <td>0.361496</td>\n",
       "      <td>0.717729</td>\n",
       "      <td>0.999972</td>\n",
       "    </tr>\n",
       "    <tr>\n",
       "      <th>1</th>\n",
       "      <td>2.451843</td>\n",
       "      <td>-0.017949</td>\n",
       "      <td>0.401740</td>\n",
       "      <td>-0.044679</td>\n",
       "      <td>0.964363</td>\n",
       "      <td>0.999972</td>\n",
       "    </tr>\n",
       "    <tr>\n",
       "      <th>2</th>\n",
       "      <td>73.441410</td>\n",
       "      <td>-0.066540</td>\n",
       "      <td>0.060827</td>\n",
       "      <td>-1.093916</td>\n",
       "      <td>0.273992</td>\n",
       "      <td>0.999972</td>\n",
       "    </tr>\n",
       "    <tr>\n",
       "      <th>3</th>\n",
       "      <td>40.137679</td>\n",
       "      <td>0.007231</td>\n",
       "      <td>0.098091</td>\n",
       "      <td>0.073720</td>\n",
       "      <td>0.941233</td>\n",
       "      <td>0.999972</td>\n",
       "    </tr>\n",
       "    <tr>\n",
       "      <th>4</th>\n",
       "      <td>3.984815</td>\n",
       "      <td>0.048123</td>\n",
       "      <td>0.246532</td>\n",
       "      <td>0.195201</td>\n",
       "      <td>0.845236</td>\n",
       "      <td>0.999972</td>\n",
       "    </tr>\n",
       "    <tr>\n",
       "      <th>...</th>\n",
       "      <td>...</td>\n",
       "      <td>...</td>\n",
       "      <td>...</td>\n",
       "      <td>...</td>\n",
       "      <td>...</td>\n",
       "      <td>...</td>\n",
       "    </tr>\n",
       "    <tr>\n",
       "      <th>20046</th>\n",
       "      <td>1.211245</td>\n",
       "      <td>0.160797</td>\n",
       "      <td>0.397136</td>\n",
       "      <td>0.404890</td>\n",
       "      <td>0.685558</td>\n",
       "      <td>0.999972</td>\n",
       "    </tr>\n",
       "    <tr>\n",
       "      <th>20047</th>\n",
       "      <td>0.707150</td>\n",
       "      <td>-0.078745</td>\n",
       "      <td>1.053451</td>\n",
       "      <td>-0.074750</td>\n",
       "      <td>0.940414</td>\n",
       "      <td>0.999972</td>\n",
       "    </tr>\n",
       "    <tr>\n",
       "      <th>20048</th>\n",
       "      <td>0.063948</td>\n",
       "      <td>-0.246842</td>\n",
       "      <td>1.640392</td>\n",
       "      <td>-0.150477</td>\n",
       "      <td>0.880388</td>\n",
       "      <td>0.999972</td>\n",
       "    </tr>\n",
       "    <tr>\n",
       "      <th>20049</th>\n",
       "      <td>0.139826</td>\n",
       "      <td>0.030973</td>\n",
       "      <td>0.502103</td>\n",
       "      <td>0.061686</td>\n",
       "      <td>0.950813</td>\n",
       "      <td>0.999972</td>\n",
       "    </tr>\n",
       "    <tr>\n",
       "      <th>20050</th>\n",
       "      <td>0.633480</td>\n",
       "      <td>0.239236</td>\n",
       "      <td>0.303778</td>\n",
       "      <td>0.787536</td>\n",
       "      <td>0.430968</td>\n",
       "      <td>0.999972</td>\n",
       "    </tr>\n",
       "  </tbody>\n",
       "</table>\n",
       "<p>20051 rows × 6 columns</p>\n",
       "</div>"
      ],
      "text/plain": [
       "        baseMean  log2FoldChange     lfcSE      stat    pvalue      padj\n",
       "0      16.390778        0.032650  0.090319  0.361496  0.717729  0.999972\n",
       "1       2.451843       -0.017949  0.401740 -0.044679  0.964363  0.999972\n",
       "2      73.441410       -0.066540  0.060827 -1.093916  0.273992  0.999972\n",
       "3      40.137679        0.007231  0.098091  0.073720  0.941233  0.999972\n",
       "4       3.984815        0.048123  0.246532  0.195201  0.845236  0.999972\n",
       "...          ...             ...       ...       ...       ...       ...\n",
       "20046   1.211245        0.160797  0.397136  0.404890  0.685558  0.999972\n",
       "20047   0.707150       -0.078745  1.053451 -0.074750  0.940414  0.999972\n",
       "20048   0.063948       -0.246842  1.640392 -0.150477  0.880388  0.999972\n",
       "20049   0.139826        0.030973  0.502103  0.061686  0.950813  0.999972\n",
       "20050   0.633480        0.239236  0.303778  0.787536  0.430968  0.999972\n",
       "\n",
       "[20051 rows x 6 columns]"
      ]
     },
     "execution_count": 122,
     "metadata": {},
     "output_type": "execute_result"
    }
   ],
   "source": [
    "# 3. Deseq2Stat\n",
    "res = stat_res.results_df\n",
    "res\n",
    "\n",
    "# 4. Save res as csv\n",
    "# res.to_csv(f'/Users/soheepark/03-GEO근감소/Results/GSE167186_{name}.csv')"
   ]
  },
  {
   "cell_type": "markdown",
   "id": "e6291396-b1a3-497b-9310-c8824225f962",
   "metadata": {},
   "source": [
    "# Visualization"
   ]
  },
  {
   "cell_type": "markdown",
   "id": "1e544acf-ecd3-4107-a154-f5d91b9c6fd7",
   "metadata": {},
   "source": [
    "## Heatmap"
   ]
  },
  {
   "cell_type": "code",
   "execution_count": 123,
   "id": "f1c49c3c-2ea7-4fa7-89a8-14d30c1513a6",
   "metadata": {},
   "outputs": [
    {
     "name": "stdout",
     "output_type": "stream",
     "text": [
      "Total gene counts: 4\n",
      "Up-regulated: 1\n",
      "Down-regulated: 0\n",
      "Intersected gene counts: 3\n",
      "(1, 6)\n"
     ]
    },
    {
     "data": {
      "text/html": [
       "<div>\n",
       "<style scoped>\n",
       "    .dataframe tbody tr th:only-of-type {\n",
       "        vertical-align: middle;\n",
       "    }\n",
       "\n",
       "    .dataframe tbody tr th {\n",
       "        vertical-align: top;\n",
       "    }\n",
       "\n",
       "    .dataframe thead th {\n",
       "        text-align: right;\n",
       "    }\n",
       "</style>\n",
       "<table border=\"1\" class=\"dataframe\">\n",
       "  <thead>\n",
       "    <tr style=\"text-align: right;\">\n",
       "      <th></th>\n",
       "      <th>baseMean</th>\n",
       "      <th>log2FoldChange</th>\n",
       "      <th>lfcSE</th>\n",
       "      <th>stat</th>\n",
       "      <th>pvalue</th>\n",
       "      <th>padj</th>\n",
       "    </tr>\n",
       "  </thead>\n",
       "  <tbody>\n",
       "    <tr>\n",
       "      <th>7615</th>\n",
       "      <td>6.743926</td>\n",
       "      <td>6.097447</td>\n",
       "      <td>1.127393</td>\n",
       "      <td>5.408447</td>\n",
       "      <td>6.357373e-08</td>\n",
       "      <td>0.001275</td>\n",
       "    </tr>\n",
       "  </tbody>\n",
       "</table>\n",
       "</div>"
      ],
      "text/plain": [
       "      baseMean  log2FoldChange     lfcSE      stat        pvalue      padj\n",
       "7615  6.743926        6.097447  1.127393  5.408447  6.357373e-08  0.001275"
      ]
     },
     "execution_count": 123,
     "metadata": {},
     "output_type": "execute_result"
    }
   ],
   "source": [
    "lfc_cutoff = 2\n",
    "\n",
    "sigs = res[(res.padj < 0.05) & (abs(res.log2FoldChange) > lfc_cutoff)]\n",
    "print(f\"Total gene counts: {len(res[res.padj < 0.05])}\") \n",
    "print(f\"Up-regulated: {len(res[(res.padj < 0.05) & (res.log2FoldChange > lfc_cutoff)])}\")\n",
    "print(f\"Down-regulated: {len(res[(res.padj < 0.05) & (res.log2FoldChange < -lfc_cutoff)])}\")\n",
    "print(f\"Intersected gene counts: {len(res[res.padj < 0.05])-len(res[(res.padj < 0.05) & (abs(res.log2FoldChange) > lfc_cutoff)])}\")\n",
    "\n",
    "print(sigs.shape)\n",
    "sigs.head()"
   ]
  },
  {
   "cell_type": "code",
   "execution_count": 124,
   "id": "2ac4fb62-5215-42fb-9db3-a95bf51363cb",
   "metadata": {},
   "outputs": [
    {
     "data": {
      "text/plain": [
       "View of AnnData object with n_obs × n_vars = 112 × 1\n",
       "    obs: 'Condition'\n",
       "    uns: 'trend_coeffs', 'disp_function_type', '_squared_logres', 'prior_disp_var'\n",
       "    obsm: 'design_matrix', 'size_factors', 'replaceable'\n",
       "    varm: 'non_zero', '_MoM_dispersions', 'genewise_dispersions', '_genewise_converged', '_normed_means', 'fitted_dispersions', 'MAP_dispersions', '_MAP_converged', 'dispersions', '_outlier_genes', 'LFC', '_LFC_converged', 'replaced', 'refitted'\n",
       "    layers: 'normed_counts', '_mu_hat', '_mu_LFC', '_hat_diagonals', 'cooks', 'replace_cooks'"
      ]
     },
     "execution_count": 124,
     "metadata": {},
     "output_type": "execute_result"
    }
   ],
   "source": [
    "dds_sigs = dds[:, sigs.index]\n",
    "dds_sigs"
   ]
  },
  {
   "cell_type": "code",
   "execution_count": null,
   "id": "55b6d10a-3abb-4e0a-8920-ce4cf6f82157",
   "metadata": {},
   "outputs": [],
   "source": [
    "grapher = pd.DataFrame(dds_sigs.layers['log1p'].T,\n",
    "                       index=dds_sigs.var_names, \n",
    "                       columns=dds_sigs.obs_names)"
   ]
  },
  {
   "cell_type": "code",
   "execution_count": null,
   "id": "a224b14b-8398-4986-bb8a-a7a043eb4331",
   "metadata": {},
   "outputs": [],
   "source": [
    "sns.clustermap(grapher, \n",
    "               z_score=0, \n",
    "               cmap = 'RdYlBu_r', \n",
    "               xticklabels=True,\n",
    "               yticklabels=True,\n",
    "               # row_cluster=None,\n",
    "               cbar_pos=(1, 0.1, 0.02, 0.3),\n",
    "              figsize=(10, 6))\n",
    "               # figsize=(12,3))\n",
    "plt.show()"
   ]
  },
  {
   "cell_type": "markdown",
   "id": "3217e196-7c91-4615-a260-3b3ad3e773d8",
   "metadata": {},
   "source": [
    "## Volcanoplot"
   ]
  },
  {
   "cell_type": "code",
   "execution_count": null,
   "id": "e0d5f1ef-f5b7-4596-bb57-79cab44a5d8b",
   "metadata": {},
   "outputs": [],
   "source": [
    "print(grapher.index)\n",
    "res['Symbol'] = res.index"
   ]
  },
  {
   "cell_type": "code",
   "execution_count": null,
   "id": "04421112-62f4-4847-b7c9-888c87cb0bec",
   "metadata": {},
   "outputs": [],
   "source": [
    "volcano(res, symbol='Symbol', to_label = grapher.index)"
   ]
  }
 ],
 "metadata": {
  "kernelspec": {
   "display_name": "Python 3 (ipykernel)",
   "language": "python",
   "name": "python3"
  },
  "language_info": {
   "codemirror_mode": {
    "name": "ipython",
    "version": 3
   },
   "file_extension": ".py",
   "mimetype": "text/x-python",
   "name": "python",
   "nbconvert_exporter": "python",
   "pygments_lexer": "ipython3",
   "version": "3.9.0"
  }
 },
 "nbformat": 4,
 "nbformat_minor": 5
}
